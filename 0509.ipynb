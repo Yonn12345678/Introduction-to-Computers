{
  "nbformat": 4,
  "nbformat_minor": 0,
  "metadata": {
    "colab": {
      "name": "0509.ipynb",
      "provenance": [],
      "authorship_tag": "ABX9TyNxvUfXubUhiHLGW0PrsCw1",
      "include_colab_link": true
    },
    "kernelspec": {
      "name": "python3",
      "display_name": "Python 3"
    },
    "language_info": {
      "name": "python"
    }
  },
  "cells": [
    {
      "cell_type": "markdown",
      "metadata": {
        "id": "view-in-github",
        "colab_type": "text"
      },
      "source": [
        "<a href=\"https://colab.research.google.com/github/Yonn12345678/Introduction-to-Computers/blob/main/0509.ipynb\" target=\"_parent\"><img src=\"https://colab.research.google.com/assets/colab-badge.svg\" alt=\"Open In Colab\"/></a>"
      ]
    },
    {
      "cell_type": "code",
      "source": [
        "temp= float(input('請輸入你的體溫'))\n",
        "if temp >= 37.5 :\n",
        "  print('體溫過高！')\n",
        "elif temp >= 37 and temp <37.4 :\n",
        "  print('體溫略高！')\n",
        "elif temp >= 34 and temp <=36.9 :\n",
        "  print('體溫正常！')\n",
        "else:\n",
        "  print('體溫異常，請重新量測！')"
      ],
      "metadata": {
        "colab": {
          "base_uri": "https://localhost:8080/"
        },
        "id": "DAgrA1G47kqH",
        "outputId": "3fe97ab3-829f-47a1-b1d3-51696f21ebb9"
      },
      "execution_count": 11,
      "outputs": [
        {
          "output_type": "stream",
          "name": "stdout",
          "text": [
            "請輸入你的體溫36\n",
            "體溫正常！\n"
          ]
        }
      ]
    },
    {
      "cell_type": "code",
      "source": [
        "grade = int(input('請輸入成績：'))\n",
        "if grade >= 90:\n",
        "  print('A')\n",
        "elif grade >=80 and grade <90 :\n",
        "  print('B')\n",
        "elif grade >=70 and grade <80 :\n",
        "  print('c')\n",
        "elif grade >=60 and grade <=70 :\n",
        "  print('D')\n",
        "else:\n",
        "  print('E')"
      ],
      "metadata": {
        "colab": {
          "base_uri": "https://localhost:8080/"
        },
        "id": "PCdVcylX7kvr",
        "outputId": "bfbff27b-1a0f-4065-b9fa-f57ec117b8af"
      },
      "execution_count": 25,
      "outputs": [
        {
          "output_type": "stream",
          "name": "stdout",
          "text": [
            "請輸入成績：80\n",
            "B\n"
          ]
        }
      ]
    },
    {
      "cell_type": "code",
      "source": [
        "#新用法\n",
        "\n",
        "grade = input('請輸入成績：')\n",
        "if (int(grade) >= 90):\n",
        "  print('A')\n",
        "elif (int(grade) >= 80):\n",
        "  print('B')\n",
        "elif (int(grade) >= 70):\n",
        "  print('C')\n",
        "elif (int(grade) >= 60):\n",
        "  print('D')\n",
        "else:\n",
        "  print('E')"
      ],
      "metadata": {
        "colab": {
          "base_uri": "https://localhost:8080/"
        },
        "id": "a36bH2KE7kyY",
        "outputId": "5b389c99-19f1-4c5f-e0b9-5c2c35fd7a85"
      },
      "execution_count": 26,
      "outputs": [
        {
          "output_type": "stream",
          "name": "stdout",
          "text": [
            "請輸入成績：70\n",
            "C\n"
          ]
        }
      ]
    },
    {
      "cell_type": "code",
      "source": [
        "money = int(input('請輸入購物金額：'))\n",
        "if (money >= 10000):\n",
        "  if(money >=100000):\n",
        "    print('八折', money*0.8, end = \"元\\n\")\n",
        "  elif(money >=50000):\n",
        "    print('八五折', money*0.85, end = \"元\\n\")\n",
        "  elif(money >=30000):\n",
        "    print('九折', money*0.9, end = \"元\\n\")\n",
        "else:\n",
        "  print('沒打折',money, end = '元\\ｎ')"
      ],
      "metadata": {
        "colab": {
          "base_uri": "https://localhost:8080/"
        },
        "id": "B_JD4QM87k3m",
        "outputId": "65222eb3-ce44-427b-dd7c-20e683e471d4"
      },
      "execution_count": 30,
      "outputs": [
        {
          "output_type": "stream",
          "name": "stdout",
          "text": [
            "請輸入購物金額：49999\n",
            "九折 44999.1元\n"
          ]
        }
      ]
    },
    {
      "cell_type": "code",
      "source": [
        "month = int(input('請輸入月份：'))\n",
        "if (month >= 3 and month <=5):\n",
        "  print(month, end = '月是春天！\\n')\n",
        "elif (month >= 6 and month <=8):\n",
        "  print(month, end = '月是夏天！\\n')\n",
        "elif (month >= 9 and month <=11):\n",
        "  print(month, end = '月是秋天！\\n')\n",
        "elif (month >= 1 and month <=2):\n",
        "  print(month, end = '月是冬天！\\n')\n",
        "else:\n",
        "  print(month, end = '月份不在範圍內！\\n')"
      ],
      "metadata": {
        "colab": {
          "base_uri": "https://localhost:8080/"
        },
        "id": "jJnW-75KLkun",
        "outputId": "9bd969bd-b20b-4a6f-d73b-ecbdc0ec6e90"
      },
      "execution_count": 46,
      "outputs": [
        {
          "output_type": "stream",
          "name": "stdout",
          "text": [
            "請輸入月份：5\n",
            "5月是春天！\n"
          ]
        }
      ]
    },
    {
      "cell_type": "code",
      "source": [
        ""
      ],
      "metadata": {
        "id": "r5BrHFyHLk8z"
      },
      "execution_count": null,
      "outputs": []
    },
    {
      "cell_type": "code",
      "source": [
        "m = int(input('請輸入今年收入淨額：'))\n",
        "if (m >= 300000):\n",
        "  if(m >= 2000000):\n",
        "    print('付款金額：',m*0.3,end = '元\\n')\n",
        "  elif (m >= 1000000):\n",
        "    print('付款金額：',m*0.21,end = '元\\n')\n",
        "  elif (m >= 600000):\n",
        "    print('付款金額：',m*0.13,end = '元\\n')\n",
        "  elif (m >= 300000):\n",
        "    print('付款金額：',m*0.06,end = '元\\n')\n",
        "else:\n",
        "  print('0元')"
      ],
      "metadata": {
        "colab": {
          "base_uri": "https://localhost:8080/"
        },
        "id": "NO9QZ4PY7wtI",
        "outputId": "71239af6-7116-456c-ccf6-bb48e22e4051"
      },
      "execution_count": 36,
      "outputs": [
        {
          "output_type": "stream",
          "name": "stdout",
          "text": [
            "請輸入今年收入淨額：100000\n",
            "0元\n"
          ]
        }
      ]
    },
    {
      "cell_type": "code",
      "source": [
        "m = int(input('請輸入今年收入淨額：'))\n",
        "if (m >= 300000):\n",
        "  if(m >= 2000000):\n",
        "    print('付款金額：',m*0.3,end = '元\\n')\n",
        "  elif (m >= 1000000):\n",
        "    print('付款金額：',m*0.21,end = '元\\n')\n",
        "  elif (m >= 600000):\n",
        "    print('付款金額：',m*0.13,end = '元\\n')\n",
        "  elif (m >= 300000):\n",
        "    print('付款金額：',m*0.06,end = '元\\n')\n",
        "else:\n",
        "  print('0元')"
      ],
      "metadata": {
        "colab": {
          "base_uri": "https://localhost:8080/"
        },
        "id": "kaA3CPblLaSw",
        "outputId": "39941dbb-06ce-4abb-fea5-731dba903827"
      },
      "execution_count": 37,
      "outputs": [
        {
          "output_type": "stream",
          "name": "stdout",
          "text": [
            "請輸入今年收入淨額：2000000\n",
            "付款金額： 600000.0元\n"
          ]
        }
      ]
    }
  ]
}