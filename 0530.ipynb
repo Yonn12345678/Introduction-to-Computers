{
  "nbformat": 4,
  "nbformat_minor": 0,
  "metadata": {
    "colab": {
      "name": "0530.ipynb",
      "provenance": [],
      "authorship_tag": "ABX9TyP1sHZvTnVac+qJcUWNVaus",
      "include_colab_link": true
    },
    "kernelspec": {
      "name": "python3",
      "display_name": "Python 3"
    },
    "language_info": {
      "name": "python"
    }
  },
  "cells": [
    {
      "cell_type": "markdown",
      "metadata": {
        "id": "view-in-github",
        "colab_type": "text"
      },
      "source": [
        "<a href=\"https://colab.research.google.com/github/Yonn12345678/Introduction-to-Computers/blob/main/0530.ipynb\" target=\"_parent\"><img src=\"https://colab.research.google.com/assets/colab-badge.svg\" alt=\"Open In Colab\"/></a>"
      ]
    },
    {
      "cell_type": "code",
      "execution_count": null,
      "metadata": {
        "id": "BGu8Md2MA5v2"
      },
      "outputs": [],
      "source": [
        "#九九乘法"
      ]
    },
    {
      "cell_type": "code",
      "source": [
        "for i in range(2,10):\n",
        "  for j in range(1,10):\n",
        "    product = i*j\n",
        "    print('%d *%d =%2d' %(i,j,product),end=' ')\n",
        "  print()"
      ],
      "metadata": {
        "colab": {
          "base_uri": "https://localhost:8080/"
        },
        "id": "loVrw_9aA-vb",
        "outputId": "da13cb83-f7b7-48b6-a8b3-10faf0f41bd2"
      },
      "execution_count": null,
      "outputs": [
        {
          "output_type": "stream",
          "name": "stdout",
          "text": [
            "2 *1 = 2 2 *2 = 4 2 *3 = 6 2 *4 = 8 2 *5 =10 2 *6 =12 2 *7 =14 2 *8 =16 2 *9 =18 \n",
            "3 *1 = 3 3 *2 = 6 3 *3 = 9 3 *4 =12 3 *5 =15 3 *6 =18 3 *7 =21 3 *8 =24 3 *9 =27 \n",
            "4 *1 = 4 4 *2 = 8 4 *3 =12 4 *4 =16 4 *5 =20 4 *6 =24 4 *7 =28 4 *8 =32 4 *9 =36 \n",
            "5 *1 = 5 5 *2 =10 5 *3 =15 5 *4 =20 5 *5 =25 5 *6 =30 5 *7 =35 5 *8 =40 5 *9 =45 \n",
            "6 *1 = 6 6 *2 =12 6 *3 =18 6 *4 =24 6 *5 =30 6 *6 =36 6 *7 =42 6 *8 =48 6 *9 =54 \n",
            "7 *1 = 7 7 *2 =14 7 *3 =21 7 *4 =28 7 *5 =35 7 *6 =42 7 *7 =49 7 *8 =56 7 *9 =63 \n",
            "8 *1 = 8 8 *2 =16 8 *3 =24 8 *4 =32 8 *5 =40 8 *6 =48 8 *7 =56 8 *8 =64 8 *9 =72 \n",
            "9 *1 = 9 9 *2 =18 9 *3 =27 9 *4 =36 9 *5 =45 9 *6 =54 9 *7 =63 9 *8 =72 9 *9 =81 \n"
          ]
        }
      ]
    },
    {
      "cell_type": "code",
      "source": [
        "#最小公倍數\n",
        "#break符合判斷就不會回到迴圈 終止\n",
        "\n",
        "a = int (input('請輸入a的值'))\n",
        "b = int (input('請輸入b的值'))\n",
        "\n",
        "maxno = a * b\n",
        "for i in range(1,maxno+1):\n",
        "  if(i % a == 0 and i % b == 0):\n",
        "    break\n",
        "print('%d和 %d的最小公倍數 = %d' %(a,b,i))\n"
      ],
      "metadata": {
        "colab": {
          "base_uri": "https://localhost:8080/"
        },
        "id": "_CHXOqZ3A-x7",
        "outputId": "28ffe168-b67d-409e-87d4-263397d4d8f4"
      },
      "execution_count": null,
      "outputs": [
        {
          "output_type": "stream",
          "name": "stdout",
          "text": [
            "請輸入a的值4\n",
            "請輸入b的值5\n",
            "4和 5的最小公倍數 = 20\n"
          ]
        }
      ]
    },
    {
      "cell_type": "code",
      "source": [
        "#continue 會繼續回到迴圈\n",
        "n = int(input('請輸入正整數：'))\n",
        "for i in range(1,n+1):\n",
        "  if i % 5 ==0:\n",
        "    continue\n",
        "  print(i, end=' ')"
      ],
      "metadata": {
        "colab": {
          "base_uri": "https://localhost:8080/"
        },
        "id": "KKxXvLSVA-0Y",
        "outputId": "0374a6e4-3d35-4e18-9e44-70830320c704"
      },
      "execution_count": null,
      "outputs": [
        {
          "output_type": "stream",
          "name": "stdout",
          "text": [
            "請輸入正整數：21\n",
            "1 2 3 4 6 7 8 9 11 12 13 14 16 17 18 19 21 "
          ]
        }
      ]
    },
    {
      "cell_type": "code",
      "source": [
        "#while\n",
        "\n",
        "total = n = 0 \n",
        "while(n<=10):\n",
        "  total += n\n",
        "  n +=1\n",
        "print(total)\n",
        "\n",
        "total = n = 0 \n",
        "while n<=10:\n",
        "  total += n\n",
        "  n+=1\n",
        "print(total)"
      ],
      "metadata": {
        "colab": {
          "base_uri": "https://localhost:8080/"
        },
        "id": "tXsj7lO4A-2y",
        "outputId": "41f2b2ef-f755-4bec-ff90-80f0f40c92c3"
      },
      "execution_count": null,
      "outputs": [
        {
          "output_type": "stream",
          "name": "stdout",
          "text": [
            "55\n",
            "55\n"
          ]
        }
      ]
    },
    {
      "cell_type": "code",
      "source": [
        "total = i = 1\n",
        "n = int(input('請輸入正整數n的值：'))\n",
        "while i<=n:\n",
        "  total *= i\n",
        "  i+=1\n",
        "print('%d!=%d' %(n,total))"
      ],
      "metadata": {
        "colab": {
          "base_uri": "https://localhost:8080/"
        },
        "id": "8V3WFF6bA-5G",
        "outputId": "8a50b0da-05d6-4675-b570-daa829a8dd4d"
      },
      "execution_count": null,
      "outputs": [
        {
          "output_type": "stream",
          "name": "stdout",
          "text": [
            "請輸入正整數n的值：5\n",
            "5!=120\n"
          ]
        }
      ]
    },
    {
      "cell_type": "code",
      "source": [
        "total = i = 0\n",
        "while i <=50 :\n",
        "  total += i\n",
        "  i+=2\n",
        "print('0-50的偶數和結果是%d' %(total))"
      ],
      "metadata": {
        "colab": {
          "base_uri": "https://localhost:8080/"
        },
        "id": "8M35g2DtA-7j",
        "outputId": "a0681323-05d8-4dbe-b568-c8d59277d79f"
      },
      "execution_count": null,
      "outputs": [
        {
          "output_type": "stream",
          "name": "stdout",
          "text": [
            "0-50的偶數和結果是650\n"
          ]
        }
      ]
    },
    {
      "cell_type": "code",
      "source": [
        "a=0\n",
        "total = i = 1\n",
        "while i <=50 :\n",
        "  total += i\n",
        "  i+=2\n",
        "print('0-50的奇數和結果是%d' %(total-1))"
      ],
      "metadata": {
        "colab": {
          "base_uri": "https://localhost:8080/"
        },
        "id": "UD9-7BsFA-99",
        "outputId": "5405f1a2-0730-4caa-ac81-338d9ed3cd2b"
      },
      "execution_count": null,
      "outputs": [
        {
          "output_type": "stream",
          "name": "stdout",
          "text": [
            "0-50的奇數和結果是625\n"
          ]
        }
      ]
    },
    {
      "cell_type": "code",
      "source": [
        "n = int(input('請輸入正整數：'))\n",
        "for i in range(n):\n",
        "  print((n-i)*'*')"
      ],
      "metadata": {
        "colab": {
          "base_uri": "https://localhost:8080/"
        },
        "id": "KhFd57iaA_AZ",
        "outputId": "09f7a979-5c88-4920-d15b-2e269d48a11b"
      },
      "execution_count": null,
      "outputs": [
        {
          "output_type": "stream",
          "name": "stdout",
          "text": [
            "請輸入正整數：7\n",
            "*******\n",
            "******\n",
            "*****\n",
            "****\n",
            "***\n",
            "**\n",
            "*\n"
          ]
        }
      ]
    },
    {
      "cell_type": "code",
      "source": [
        "n = int(input('請輸入正整數：'))\n",
        "for i in range(n):\n",
        "  print((n-i)*'*')"
      ],
      "metadata": {
        "colab": {
          "base_uri": "https://localhost:8080/"
        },
        "id": "T9dNRQSNA_DS",
        "outputId": "8c88f4b4-3151-456e-fb5c-0c1f76d119f9"
      },
      "execution_count": null,
      "outputs": [
        {
          "output_type": "stream",
          "name": "stdout",
          "text": [
            "請輸入正整數：5\n",
            "*****\n",
            "****\n",
            "***\n",
            "**\n",
            "*\n"
          ]
        }
      ]
    },
    {
      "cell_type": "code",
      "source": [
        "sum = 0\n",
        "for i in range(1,101):\n",
        "  if(i%3==0 or i%7==0):\n",
        "    sum += i\n",
        "print('數值1-100中，所有是 3 或 7 倍數的數之總和 = ',sum)"
      ],
      "metadata": {
        "colab": {
          "base_uri": "https://localhost:8080/"
        },
        "id": "RdZy-SklA_F6",
        "outputId": "039f99a0-be06-4a21-e3b6-b96a5d6404a5"
      },
      "execution_count": null,
      "outputs": [
        {
          "output_type": "stream",
          "name": "stdout",
          "text": [
            "數值1-100中，所有是 3 或 7 倍數的數之總和 =  2208\n"
          ]
        }
      ]
    },
    {
      "cell_type": "code",
      "source": [
        "n = int(input('請輸入正整數：'))\n",
        "a = []\n",
        "b = 2\n",
        "for i in range(1,n+1):\n",
        "  if n % i == 0:\n",
        "    a.append(i)\n",
        "    continue\n",
        "print(str(n)+'的因數有',a)\n",
        "\n",
        "while b < n:\n",
        "  if n % 2 == 0:\n",
        "    print(n,'不是質數')\n",
        "    break\n",
        "  b += 1\n",
        "\n",
        "if b == n:\n",
        "  print(n,'是質數')"
      ],
      "metadata": {
        "colab": {
          "base_uri": "https://localhost:8080/"
        },
        "id": "giTKMnCIVMg7",
        "outputId": "dc8e090a-d8be-462c-abe1-067d18eb57bf"
      },
      "execution_count": 3,
      "outputs": [
        {
          "output_type": "stream",
          "name": "stdout",
          "text": [
            "請輸入正整數：12\n",
            "12的因數有 [1, 2, 3, 4, 6, 12]\n",
            "12 不是質數\n"
          ]
        }
      ]
    },
    {
      "cell_type": "code",
      "source": [
        "n = int(input('請輸入正整數：'))\n",
        "a = []\n",
        "b = 2\n",
        "for i in range(1,n+1):\n",
        "  if n % i == 0:\n",
        "    a.append(i)\n",
        "    continue\n",
        "print(str(n)+'的因數有',a)\n",
        "\n",
        "while b < n:\n",
        "  if n % 2 == 0:\n",
        "    print(n,'不是質數')\n",
        "    break\n",
        "  b += 1\n",
        "\n",
        "if b == n:\n",
        "  print(n,'是質數')"
      ],
      "metadata": {
        "colab": {
          "base_uri": "https://localhost:8080/"
        },
        "id": "VcdqEJdOVMjX",
        "outputId": "5a452f3c-9b82-4f66-b3c8-39d1cc3540bb"
      },
      "execution_count": null,
      "outputs": [
        {
          "output_type": "stream",
          "name": "stdout",
          "text": [
            "請輸入正整數：11\n",
            "11的因數有 [1, 11]\n",
            "11 是質數\n"
          ]
        }
      ]
    }
  ]
}